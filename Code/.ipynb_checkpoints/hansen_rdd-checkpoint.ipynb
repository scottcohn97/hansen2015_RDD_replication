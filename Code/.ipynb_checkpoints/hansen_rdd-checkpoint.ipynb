{
  "nbformat": 4,
  "nbformat_minor": 0,
  "metadata": {
    "colab": {
      "name": "hansen_rdd",
      "provenance": []
    },
    "kernelspec": {
      "name": "python3",
      "display_name": "Python 3"
    }
  },
  "cells": [
    {
      "cell_type": "markdown",
      "metadata": {
        "id": "HYvbPnc06LxO"
      },
      "source": [
        "# Hansen (2015) RDD Replication"
      ]
    },
    {
      "cell_type": "markdown",
      "metadata": {
        "id": "GRc3MkNI71jO"
      },
      "source": [
        "## Paper summary"
      ]
    },
    {
      "cell_type": "markdown",
      "metadata": {
        "id": "1lZgkNpc75Ll"
      },
      "source": [
        "*Briefly summarize this paper.  What is his research question? What data does he use?  What is his research design, or “identification strategy”?  What are his conclusions?*"
      ]
    },
    {
      "cell_type": "markdown",
      "metadata": {
        "id": "QCFNkyUr6SlG"
      },
      "source": [
        "## Setup"
      ]
    },
    {
      "cell_type": "code",
      "metadata": {
        "id": "OEp3bF646FUJ"
      },
      "source": [
        "# activate R magic\n",
        "%load_ext rpy2.ipython"
      ],
      "execution_count": null,
      "outputs": []
    },
    {
      "cell_type": "code",
      "metadata": {
        "colab": {
          "base_uri": "https://localhost:8080/"
        },
        "id": "kDMnT6UQ6Mbw",
        "outputId": "6774a402-0707-4351-d697-a3256885a91c"
      },
      "source": [
        "# libs\n",
        "\n",
        "%%R\n",
        "\n",
        "library(tidyverse)\n",
        "library(knitr)\n",
        "library(tidymodels)"
      ],
      "execution_count": 54,
      "outputs": [
        {
          "output_type": "stream",
          "text": [
            "R[write to console]: Error in library(tidymodels) : there is no package called ‘tidymodels’\n",
            "Calls: <Anonymous> -> <Anonymous> -> withVisible -> library\n",
            "\n"
          ],
          "name": "stderr"
        },
        {
          "output_type": "stream",
          "text": [
            "\n",
            "Error in library(tidymodels) : there is no package called ‘tidymodels’\n",
            "Calls: <Anonymous> -> <Anonymous> -> withVisible -> library\n"
          ],
          "name": "stdout"
        }
      ]
    },
    {
      "cell_type": "code",
      "metadata": {
        "id": "cLLnC__A6q4l"
      },
      "source": [
        "## funcs\n",
        "\n",
        "%%R\n",
        "\n",
        "read_data <- function(df)\n",
        "{\n",
        "  full_path <- paste(\"https://raw.githubusercontent.com/scottcohn97/hansen2015_RDD_replication/main/Data/\", \n",
        "                     df, sep = \"\")\n",
        "  df <- read_csv(full_path)\n",
        "  return(df)\n",
        "}"
      ],
      "execution_count": 4,
      "outputs": []
    },
    {
      "cell_type": "code",
      "metadata": {
        "id": "eVnummOc7TUm"
      },
      "source": [
        "## load data\n",
        "\n",
        "%%R\n",
        "\n",
        "dwi <- read_data(\"hansen_dwi.csv\")"
      ],
      "execution_count": null,
      "outputs": []
    },
    {
      "cell_type": "code",
      "metadata": {
        "colab": {
          "base_uri": "https://localhost:8080/"
        },
        "id": "8C55SFr57Zcf",
        "outputId": "6738b844-3911-4b5f-c7e9-7267573ae339"
      },
      "source": [
        "%%R \n",
        "\n",
        "head(dwi)"
      ],
      "execution_count": 12,
      "outputs": [
        {
          "output_type": "stream",
          "text": [
            "# A tibble: 6 x 12\n",
            "  Date  Alcohol1 Alcohol2 low_score  male white recidivism   acc  aged  year\n",
            "  <chr>    <dbl>    <dbl>     <dbl> <dbl> <dbl>      <dbl> <dbl> <dbl> <dbl>\n",
            "1 30ju…        0        0         0     1     1          1     0    48  2007\n",
            "2 20fe…        0        0         0     1     1          0     0    51  2007\n",
            "3 18ma…        0        0         0     1     0          0     0    68  2003\n",
            "4 17de…        0        0         0     1     1          0     0    51  2006\n",
            "5 07ap…        0        0         0     1     1          0     0    22  1999\n",
            "6 20ma…        0        0         0     1     1          0     1    49  2003\n",
            "# … with 2 more variables: bac1 <dbl>, bac2 <dbl>\n"
          ],
          "name": "stdout"
        }
      ]
    },
    {
      "cell_type": "markdown",
      "metadata": {
        "id": "NN6ve_gh8LWj"
      },
      "source": [
        "## Reproducing"
      ]
    },
    {
      "cell_type": "markdown",
      "metadata": {
        "id": "XuW7TJxK8PpE"
      },
      "source": [
        "*In the United States, an officer can arrest a driver if after giving them a blood alcohol content (BAC) test they learn the driver had a BAC of 0.08 or higher. We will only focus on the 0.08 BAC cutoff. We will be ignoring the 0.15 cutoff for all this analysis. Create a dummy equaling 1 if `bac1` >= 0.08 and 0 otherwise in your do file or R file*"
      ]
    },
    {
      "cell_type": "code",
      "metadata": {
        "id": "R9uj_nwm8OuD"
      },
      "source": [
        "## tidy\n",
        "\n",
        "%%R\n",
        "\n",
        "dwi <- dwi %>% \n",
        "  # create binary for cutoff\n",
        "  mutate(bac1_binary = if_else(bac1 >= 0.08, 1, 0)) "
      ],
      "execution_count": 18,
      "outputs": []
    },
    {
      "cell_type": "markdown",
      "metadata": {
        "id": "vR-Qthvq9wgB"
      },
      "source": [
        "### Figure 1"
      ]
    },
    {
      "cell_type": "markdown",
      "metadata": {
        "id": "pgm-griW8S9n"
      },
      "source": [
        "*The first thing to do in any RDD is look at the raw data and see if there’s any evidence for manipulation (“sorting on the running variable”). If people were capable of manipulating their blood alcohol content (`bac1`), describe the test we would use to check for this.  Now evaluate whether you see this in these data?  Either recreate Figure 1 using the `bac1` variable as your measure of blood alcohol content or use your own density test from software.  Do you find evidence for sorting on the running variable? Explain your results.  Compare what you found to what Hansen found.*"
      ]
    },
    {
      "cell_type": "code",
      "metadata": {
        "colab": {
          "base_uri": "https://localhost:8080/",
          "height": 497
        },
        "id": "ETw-21m29WTx",
        "outputId": "3fb8922b-8b69-4782-a232-a6e2ba5a8a5e"
      },
      "source": [
        "## Fig 1\n",
        "\n",
        "%%R\n",
        "\n",
        "dwi %>%\n",
        "  ggplot(aes(x = bac1)) +\n",
        "  geom_histogram(binwidth = 0.001, fill = \"#8aa1b4\") +\n",
        "  geom_vline(aes(xintercept = 0.08), size = 1, linetype = 2,\n",
        "             color = \"tomato\", alpha = 0.7) +\n",
        "  labs(x = \"BAC\",\n",
        "       y = \"Frequency\",\n",
        "       title = \"BAC histogram\",\n",
        "       subtitle = \"Figure 1, Hansen (2015)\") +\n",
        "  scale_y_continuous(expand = expansion(mult = c(0, .1))) +\n",
        "  theme_classic() + \n",
        "  theme(axis.text = element_text(size = 12),\n",
        "        axis.title = element_text(size = 15),\n",
        "        title = element_text(size = 15))"
      ],
      "execution_count": 51,
      "outputs": [
        {
          "output_type": "display_data",
          "data": {
            "image/png": "[encoded data removed]"
          },
          "metadata": {
            "tags": []
          }
        }
      ]
    },
    {
      "cell_type": "markdown",
      "metadata": {
        "id": "C4Z1UTTZ9rJb"
      },
      "source": [
        "From the distribution of blood alcohol content (BAC), we see little to no evidence of endogenous sorting. There appears to be no non-random heaping that might bias the RDD. This aligns exactly with what Hansen (2015) found."
      ]
    },
    {
      "cell_type": "markdown",
      "metadata": {
        "id": "9Rrr0V-j9y_G"
      },
      "source": [
        "### Table 2"
      ]
    },
    {
      "cell_type": "markdown",
      "metadata": {
        "id": "E6FEApt98XBu"
      },
      "source": [
        "*The second thing we need to do is check for covariate balance. Recreate Table 2 Panel A but only white male, age and accident (`acc`) as dependent variables.  Use your equation (1) for this. Are the covariates balanced at the cutoff?  It’s okay if they are not exactly the same as Hansen’s.*"
      ]
    },
    {
      "cell_type": "markdown",
      "metadata": {
        "id": "XSW2tuCrC0pz"
      },
      "source": [
        "Equation 1:\n",
        "\n",
        "$$y_i = X_i' \\gamma + \\alpha_1 \\textrm{DUI}_i + \\alpha_2 \\textrm{BAC}_i \\times \\textrm{DUI}_i + u_i,$$\n",
        "\n",
        "where $y_i$ is a measure of recidivism, $X_i$ is a vector of controls, and the BAC variable is rescaled around the relevant threshold.\n"
      ]
    },
    {
      "cell_type": "code",
      "metadata": {
        "id": "oCBfNeljENF3"
      },
      "source": [
        "## RDD\n",
        "\n",
        "%%R \n",
        "\n"
      ],
      "execution_count": null,
      "outputs": []
    },
    {
      "cell_type": "code",
      "metadata": {
        "id": "aq_C1jY59W0v"
      },
      "source": [
        "## Table 2\n",
        "\n",
        "%%R\n",
        "\n",
        "dwi %>% \n"
      ],
      "execution_count": null,
      "outputs": []
    },
    {
      "cell_type": "markdown",
      "metadata": {
        "id": "WLSU2GGl90yL"
      },
      "source": [
        "### Figure 2 Panels A-D"
      ]
    },
    {
      "cell_type": "markdown",
      "metadata": {
        "id": "fN0ZOXVG8bEs"
      },
      "source": [
        "*Recreate Figure 2 panel A-D. You can use the -cmogram- command in Stata to do this. Fit both linear and quadratic with confidence intervals. Discuss what you find and compare it with Hansen’s paper.*"
      ]
    },
    {
      "cell_type": "code",
      "metadata": {
        "id": "tq2vCRiv9XRf"
      },
      "source": [
        ""
      ],
      "execution_count": null,
      "outputs": []
    },
    {
      "cell_type": "code",
      "metadata": {
        "id": "m9ysup1_96jJ"
      },
      "source": [
        ""
      ],
      "execution_count": null,
      "outputs": []
    },
    {
      "cell_type": "code",
      "metadata": {
        "id": "UTq-DLAi96eT"
      },
      "source": [
        ""
      ],
      "execution_count": null,
      "outputs": []
    },
    {
      "cell_type": "code",
      "metadata": {
        "id": "LKVmDJCU96Fa"
      },
      "source": [
        ""
      ],
      "execution_count": null,
      "outputs": []
    },
    {
      "cell_type": "markdown",
      "metadata": {
        "id": "j7pLMg9p961Q"
      },
      "source": [
        ""
      ]
    },
    {
      "cell_type": "markdown",
      "metadata": {
        "id": "yw0h3jwN98Ge"
      },
      "source": [
        "### Table 3, Col 1, Panel A + B"
      ]
    },
    {
      "cell_type": "markdown",
      "metadata": {
        "id": "1kVBIzzN8duj"
      },
      "source": [
        "*Estimate equation (1) with recidivism (`recid`) as the outcome. This corresponds to Table 3 column 1, but since I am missing some of his variables, your sample size will be the entire dataset of 214,558. Nevertheless, replicate Table 3, column 1, Panels A and B.  Note that these are local linear regressions and Panel A uses as its bandwidth 0.03 to 0.13.  But Panel B has a narrower bandwidth of 0.055 to 0.105.  Your table should have three columns and two A and B panels associated with the different bandwidths.:*\n",
        "\n",
        "1. *Column 1: control for the `bac1` linearly*\n",
        "2. *Column 2: interact `bac1` with cutoff linearly*\n",
        "3. *Column 3: interact `bac1` with cutoff linearly and as a quadratic*\n",
        "4. *For all analysis, estimate uncertainty using heteroskedastic robust standard errors. [ed: But if you want to show off, use Kolesár and Rothe’s 2018 “honest” confidence intervals (only available in R).]*\n"
      ]
    },
    {
      "cell_type": "code",
      "metadata": {
        "id": "cKO_QfC49YKU"
      },
      "source": [
        ""
      ],
      "execution_count": null,
      "outputs": []
    },
    {
      "cell_type": "code",
      "metadata": {
        "id": "8pkyY4Yn9YF2"
      },
      "source": [
        ""
      ],
      "execution_count": null,
      "outputs": []
    },
    {
      "cell_type": "code",
      "metadata": {
        "id": "xjksOq4F9X9s"
      },
      "source": [
        ""
      ],
      "execution_count": null,
      "outputs": []
    },
    {
      "cell_type": "markdown",
      "metadata": {
        "id": "yuuJBwj8-DVV"
      },
      "source": [
        "### Figure 3"
      ]
    },
    {
      "cell_type": "markdown",
      "metadata": {
        "id": "QZzWADIH8xP0"
      },
      "source": [
        "*Recreate the top panel of Figure 3 according to the following rule:*\n",
        "\n",
        "1. *Fit linear fit using only observations with less than 0.15 bac on the `bac1`*\n",
        "2. *Fit quadratic fit using only observations with less than 0.15 bac on the `bac1`*"
      ]
    },
    {
      "cell_type": "code",
      "metadata": {
        "id": "k71Fq7to9ZBi"
      },
      "source": [
        ""
      ],
      "execution_count": null,
      "outputs": []
    },
    {
      "cell_type": "code",
      "metadata": {
        "id": "6iwT4an89Zsn"
      },
      "source": [
        ""
      ],
      "execution_count": null,
      "outputs": []
    },
    {
      "cell_type": "code",
      "metadata": {
        "id": "UsJkzJUD9ZZf"
      },
      "source": [
        ""
      ],
      "execution_count": null,
      "outputs": []
    },
    {
      "cell_type": "markdown",
      "metadata": {
        "id": "0XuoPkvM-F2f"
      },
      "source": [
        "### Reflecting on exercise"
      ]
    },
    {
      "cell_type": "markdown",
      "metadata": {
        "id": "sDFcHjvt9OXm"
      },
      "source": [
        "*Discuss what you learned from this exercise. What was the hypothesis you tested and what did you find?  How confident are you in Hansen’s original conclusion? Why/why not?*"
      ]
    },
    {
      "cell_type": "markdown",
      "metadata": {
        "id": "7kBWwrcj9b4X"
      },
      "source": [
        ""
      ]
    }
  ]
}