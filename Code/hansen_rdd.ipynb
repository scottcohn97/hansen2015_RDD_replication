{
 "cells": [
  {
   "cell_type": "markdown",
   "metadata": {
    "id": "HYvbPnc06LxO"
   },
   "source": [
    "# Hansen (2015) RDD Replication"
   ]
  },
  {
   "cell_type": "markdown",
   "metadata": {
    "id": "GRc3MkNI71jO"
   },
   "source": [
    "## Paper summary"
   ]
  },
  {
   "cell_type": "markdown",
   "metadata": {
    "id": "1lZgkNpc75Ll"
   },
   "source": [
    "*Briefly summarize this paper.  What is his research question? What data does he use?  What is his research design, or “identification strategy”?  What are his conclusions?*"
   ]
  },
  {
   "cell_type": "markdown",
   "metadata": {
    "id": "QCFNkyUr6SlG"
   },
   "source": [
    "## Setup"
   ]
  },
  {
   "cell_type": "code",
   "execution_count": 49,
   "metadata": {},
   "outputs": [
    {
     "name": "stderr",
     "output_type": "stream",
     "text": [
      "Installing package into ‘/Users/scottcohn/Library/R/4.0/library’\n",
      "(as ‘lib’ is unspecified)\n",
      "\n"
     ]
    },
    {
     "name": "stdout",
     "output_type": "stream",
     "text": [
      "\n",
      "The downloaded binary packages are in\n",
      "\t/var/folders/n2/_7r9g5mj1zvc314ypm535vjm0000gn/T//RtmpVUNrJP/downloaded_packages\n"
     ]
    }
   ],
   "source": [
    "install.packages(\"tidymodels\")\n",
    "install.packages(\"rdd\")\n",
    "install.packages(\"rdrobust\")"
   ]
  },
  {
   "cell_type": "code",
   "execution_count": 50,
   "metadata": {
    "colab": {
     "base_uri": "https://localhost:8080/"
    },
    "id": "kDMnT6UQ6Mbw",
    "outputId": "6774a402-0707-4351-d697-a3256885a91c"
   },
   "outputs": [],
   "source": [
    "## libs\n",
    "\n",
    "library(tidyverse)\n",
    "library(modelsummary)\n",
    "library(sandwich)\n",
    "library(lmtest)\n",
    "library(rdd)\n",
    "library(rdrobust)\n",
    "library(knitr)\n",
    "library(broom)\n",
    "library(tidymodels)"
   ]
  },
  {
   "cell_type": "code",
   "execution_count": 4,
   "metadata": {
    "id": "cLLnC__A6q4l"
   },
   "outputs": [],
   "source": [
    "## funcs\n",
    "\n",
    "read_data <- function(df)\n",
    "{\n",
    "  full_path <- paste(\"https://raw.githubusercontent.com/scottcohn97/hansen2015_RDD_replication/main/Data/\", \n",
    "                     df, sep = \"\")\n",
    "  df <- read_csv(full_path)\n",
    "  return(df)\n",
    "}"
   ]
  },
  {
   "cell_type": "code",
   "execution_count": 5,
   "metadata": {
    "id": "eVnummOc7TUm"
   },
   "outputs": [
    {
     "name": "stderr",
     "output_type": "stream",
     "text": [
      "Parsed with column specification:\n",
      "cols(\n",
      "  Date = \u001b[31mcol_character()\u001b[39m,\n",
      "  Alcohol1 = \u001b[32mcol_double()\u001b[39m,\n",
      "  Alcohol2 = \u001b[32mcol_double()\u001b[39m,\n",
      "  low_score = \u001b[32mcol_double()\u001b[39m,\n",
      "  male = \u001b[32mcol_double()\u001b[39m,\n",
      "  white = \u001b[32mcol_double()\u001b[39m,\n",
      "  recidivism = \u001b[32mcol_double()\u001b[39m,\n",
      "  acc = \u001b[32mcol_double()\u001b[39m,\n",
      "  aged = \u001b[32mcol_double()\u001b[39m,\n",
      "  year = \u001b[32mcol_double()\u001b[39m,\n",
      "  bac1 = \u001b[32mcol_double()\u001b[39m,\n",
      "  bac2 = \u001b[32mcol_double()\u001b[39m\n",
      ")\n",
      "\n"
     ]
    }
   ],
   "source": [
    "## load data\n",
    "\n",
    "dwi <- read_data(\"hansen_dwi.csv\")"
   ]
  },
  {
   "cell_type": "code",
   "execution_count": 10,
   "metadata": {
    "colab": {
     "base_uri": "https://localhost:8080/"
    },
    "id": "8C55SFr57Zcf",
    "outputId": "6738b844-3911-4b5f-c7e9-7267573ae339"
   },
   "outputs": [
    {
     "data": {
      "text/html": [
       "<style>\n",
       ".list-inline {list-style: none; margin:0; padding: 0}\n",
       ".list-inline>li {display: inline-block}\n",
       ".list-inline>li:not(:last-child)::after {content: \"\\00b7\"; padding: 0 .5ex}\n",
       "</style>\n",
       "<ol class=list-inline><li>'Date'</li><li>'Alcohol1'</li><li>'Alcohol2'</li><li>'low_score'</li><li>'male'</li><li>'white'</li><li>'recidivism'</li><li>'acc'</li><li>'aged'</li><li>'year'</li><li>'bac1'</li><li>'bac2'</li><li>'bac1_binary'</li></ol>\n"
      ],
      "text/latex": [
       "\\begin{enumerate*}\n",
       "\\item 'Date'\n",
       "\\item 'Alcohol1'\n",
       "\\item 'Alcohol2'\n",
       "\\item 'low\\_score'\n",
       "\\item 'male'\n",
       "\\item 'white'\n",
       "\\item 'recidivism'\n",
       "\\item 'acc'\n",
       "\\item 'aged'\n",
       "\\item 'year'\n",
       "\\item 'bac1'\n",
       "\\item 'bac2'\n",
       "\\item 'bac1\\_binary'\n",
       "\\end{enumerate*}\n"
      ],
      "text/markdown": [
       "1. 'Date'\n",
       "2. 'Alcohol1'\n",
       "3. 'Alcohol2'\n",
       "4. 'low_score'\n",
       "5. 'male'\n",
       "6. 'white'\n",
       "7. 'recidivism'\n",
       "8. 'acc'\n",
       "9. 'aged'\n",
       "10. 'year'\n",
       "11. 'bac1'\n",
       "12. 'bac2'\n",
       "13. 'bac1_binary'\n",
       "\n",
       "\n"
      ],
      "text/plain": [
       " [1] \"Date\"        \"Alcohol1\"    \"Alcohol2\"    \"low_score\"   \"male\"       \n",
       " [6] \"white\"       \"recidivism\"  \"acc\"         \"aged\"        \"year\"       \n",
       "[11] \"bac1\"        \"bac2\"        \"bac1_binary\""
      ]
     },
     "metadata": {},
     "output_type": "display_data"
    }
   ],
   "source": [
    "dwi %>% colnames()"
   ]
  },
  {
   "cell_type": "markdown",
   "metadata": {
    "id": "NN6ve_gh8LWj"
   },
   "source": [
    "## Reproducing"
   ]
  },
  {
   "cell_type": "markdown",
   "metadata": {
    "id": "XuW7TJxK8PpE"
   },
   "source": [
    "*In the United States, an officer can arrest a driver if after giving them a blood alcohol content (BAC) test they learn the driver had a BAC of 0.08 or higher. We will only focus on the 0.08 BAC cutoff. We will be ignoring the 0.15 cutoff for all this analysis. Create a dummy equaling 1 if `bac1` >= 0.08 and 0 otherwise in your do file or R file*"
   ]
  },
  {
   "cell_type": "code",
   "execution_count": 6,
   "metadata": {
    "id": "R9uj_nwm8OuD"
   },
   "outputs": [],
   "source": [
    "## tidy\n",
    "\n",
    "dwi <- dwi %>% \n",
    "  # create binary for cutoff\n",
    "  mutate(dui = if_else(bac1 >= 0.08, 1, 0)) "
   ]
  },
  {
   "cell_type": "markdown",
   "metadata": {
    "id": "vR-Qthvq9wgB"
   },
   "source": [
    "### Figure 1"
   ]
  },
  {
   "cell_type": "markdown",
   "metadata": {
    "id": "pgm-griW8S9n"
   },
   "source": [
    "*The first thing to do in any RDD is look at the raw data and see if there’s any evidence for manipulation (“sorting on the running variable”). If people were capable of manipulating their blood alcohol content (`bac1`), describe the test we would use to check for this.  Now evaluate whether you see this in these data?  Either recreate Figure 1 using the `bac1` variable as your measure of blood alcohol content or use your own density test from software.  Do you find evidence for sorting on the running variable? Explain your results.  Compare what you found to what Hansen found.*"
   ]
  },
  {
   "cell_type": "code",
   "execution_count": 51,
   "metadata": {
    "colab": {
     "base_uri": "https://localhost:8080/",
     "height": 497
    },
    "id": "ETw-21m29WTx",
    "outputId": "3fb8922b-8b69-4782-a232-a6e2ba5a8a5e"
   },
   "outputs": [
    {
     "data": {
      "image/png": "[encoded data removed]"
     },
     "metadata": {
      "tags": []
     },
     "output_type": "display_data"
    }
   ],
   "source": [
    "## Fig 1\n",
    "\n",
    "dwi %>%\n",
    "  ggplot(aes(x = bac1)) +\n",
    "  geom_histogram(binwidth = 0.001, fill = \"#8aa1b4\") +\n",
    "  geom_vline(aes(xintercept = 0.08), size = 1, linetype = 2,\n",
    "             color = \"tomato\", alpha = 0.7) +\n",
    "  labs(x = \"BAC\",\n",
    "       y = \"Frequency\",\n",
    "       title = \"BAC histogram\",\n",
    "       subtitle = \"Figure 1, Hansen (2015)\") +\n",
    "  scale_y_continuous(expand = expansion(mult = c(0, .1))) +\n",
    "  theme_classic() + \n",
    "  theme(axis.text = element_text(size = 12),\n",
    "        axis.title = element_text(size = 15),\n",
    "        title = element_text(size = 15))"
   ]
  },
  {
   "cell_type": "markdown",
   "metadata": {
    "id": "C4Z1UTTZ9rJb"
   },
   "source": [
    "From the distribution of blood alcohol content (BAC), we see little to no evidence of endogenous sorting. There appears to be no non-random heaping that might bias the RDD. This aligns exactly with what Hansen (2015) found."
   ]
  },
  {
   "cell_type": "markdown",
   "metadata": {
    "id": "9Rrr0V-j9y_G"
   },
   "source": [
    "### Table 2"
   ]
  },
  {
   "cell_type": "markdown",
   "metadata": {
    "id": "E6FEApt98XBu"
   },
   "source": [
    "*The second thing we need to do is check for covariate balance. Recreate Table 2 Panel A but only white male, age and accident (`acc`) as dependent variables.  Use your equation (1) for this. Are the covariates balanced at the cutoff?  It’s okay if they are not exactly the same as Hansen’s.*"
   ]
  },
  {
   "cell_type": "markdown",
   "metadata": {
    "id": "XSW2tuCrC0pz"
   },
   "source": [
    "Equation 1:\n",
    "\n",
    "$$y_i = X_i' \\gamma + \\alpha_1 \\textrm{DUI}_i + \\alpha_2 \\textrm{BAC}_i \\times \\textrm{DUI}_i + u_i,$$\n",
    "\n",
    "where $y_i$ is a measure of recidivism, $X_i$ is a vector of controls, and the BAC variable is rescaled around the relevant threshold.\n"
   ]
  },
  {
   "cell_type": "code",
   "execution_count": 51,
   "metadata": {},
   "outputs": [
    {
     "name": "stdout",
     "output_type": "stream",
     "text": [
      "[1] \"Mass points detected in the running variable.\"\n"
     ]
    },
    {
     "ename": "ERROR",
     "evalue": "Error in chol.default(crossprod(x)): the leading minor of order 3 is not positive definite\n",
     "output_type": "error",
     "traceback": [
      "Error in chol.default(crossprod(x)): the leading minor of order 3 is not positive definite\nTraceback:\n",
      "1. rdrobust(y = dwi$recidivism, x = dwi$white, c = 0.08)",
      "2. capture.output(rdbws <- rdbwselect(y = y, x = x, c = c, fuzzy = fuzzy, \n .     deriv = deriv, p = p, q = q, covs = covs, kernel = kernel, \n .     weights = weights, bwselect = bwselect, bwcheck = bwcheck, \n .     bwrestrict = bwrestrict, vce = vce, cluster = cluster, nnmatch = nnmatch, \n .     scaleregul = scaleregul, sharpbw = sharpbw, subset = subset, \n .     masspoints = masspoints, stdvars = stdvars))",
      "3. evalVis(expr)",
      "4. withVisible(eval(expr, pf))",
      "5. eval(expr, pf)",
      "6. eval(expr, pf)",
      "7. rdbwselect(y = y, x = x, c = c, fuzzy = fuzzy, deriv = deriv, \n .     p = p, q = q, covs = covs, kernel = kernel, weights = weights, \n .     bwselect = bwselect, bwcheck = bwcheck, bwrestrict = bwrestrict, \n .     vce = vce, cluster = cluster, nnmatch = nnmatch, scaleregul = scaleregul, \n .     sharpbw = sharpbw, subset = subset, masspoints = masspoints, \n .     stdvars = stdvars)",
      "8. rdrobust_bw(Y_l, X_l, T_l, Z_l, C_l, fw_l, c = c, o = q + 1, \n .     nu = q + 1, o_B = q + 2, h_V = c_bw, h_B = range_l, 0, vce, \n .     nnmatch, kernel, dups_l, dupsid_l)",
      "9. qrXXinv(R_V * sqrt(eW))",
      "10. chol2inv(chol(crossprod(x)))",
      "11. chol(crossprod(x))",
      "12. chol.default(crossprod(x))"
     ]
    }
   ],
   "source": [
    "## RDD\n",
    "\n",
    "rdr <- rdrobust(y = dwi$recidivism,\n",
    "                x = dwi$white, c = 0.08)\n",
    "summary(rdr)"
   ]
  },
  {
   "cell_type": "code",
   "execution_count": 97,
   "metadata": {
    "id": "oCBfNeljENF3"
   },
   "outputs": [
    {
     "data": {
      "text/plain": [
       "\n",
       "Call:\n",
       "lm(formula = recidivism ~ white + male + aged + acc + dui + I(bac1 * \n",
       "    dui))\n",
       "\n",
       "Residuals:\n",
       "     Min       1Q   Median       3Q      Max \n",
       "-0.22762 -0.12855 -0.11455 -0.09614  0.95395 \n",
       "\n",
       "Coefficients:\n",
       "                Estimate Std. Error t value Pr(>|t|)    \n",
       "(Intercept)    1.145e-01  3.678e-03  31.131  < 2e-16 ***\n",
       "white          3.641e-03  2.016e-03   1.806 0.070845 .  \n",
       "male           2.902e-02  1.704e-03  17.026  < 2e-16 ***\n",
       "aged          -6.421e-04  6.084e-05 -10.554  < 2e-16 ***\n",
       "acc           -7.550e-03  1.981e-03  -3.811 0.000138 ***\n",
       "dui           -5.289e-02  3.306e-03 -15.997  < 2e-16 ***\n",
       "I(bac1 * dui)  3.523e-01  1.599e-02  22.026  < 2e-16 ***\n",
       "---\n",
       "Signif. codes:  0 ‘***’ 0.001 ‘**’ 0.01 ‘*’ 0.05 ‘.’ 0.1 ‘ ’ 1\n",
       "\n",
       "Residual standard error: 0.3215 on 214551 degrees of freedom\n",
       "Multiple R-squared:  0.003919,\tAdjusted R-squared:  0.003891 \n",
       "F-statistic: 140.7 on 6 and 214551 DF,  p-value: < 2.2e-16\n"
      ]
     },
     "metadata": {},
     "output_type": "display_data"
    }
   ],
   "source": [
    "## RDD (sharp)\n",
    "\n",
    "# allow slopes to vary\n",
    "dwi_rdd <- dwi %>%\n",
    "    drop_na(any_of(\"recidivism\")) %$% \n",
    "    lm(recidivism ~ white + male + aged + acc + dui + I(bac1 * dui)) \n",
    "    # lm(y ~ white + male + aged + acc + dui + I(bac1 - 0.001)) \n",
    "\n",
    "dwi_rdd %>%\n",
    "    summary()"
   ]
  },
  {
   "cell_type": "code",
   "execution_count": 53,
   "metadata": {},
   "outputs": [
    {
     "data": {
      "text/plain": [
       "\n",
       "t test of coefficients:\n",
       "\n",
       "             Estimate Std. Error t value  Pr(>|t|)    \n",
       "(Intercept)  0.112384   0.018013  6.2390 4.429e-10 ***\n",
       "dui         -0.067943   0.022303 -3.0464  0.002317 ** \n",
       "bac1        -0.321189   0.259759 -1.2365  0.216281    \n",
       "dui:bac1     0.611845   0.292332  2.0930  0.036355 *  \n",
       "---\n",
       "Signif. codes:  0 ‘***’ 0.001 ‘**’ 0.01 ‘*’ 0.05 ‘.’ 0.1 ‘ ’ 1\n"
      ]
     },
     "metadata": {},
     "output_type": "display_data"
    },
    {
     "data": {
      "text/plain": [
       "\n",
       "t test of coefficients:\n",
       "\n",
       "              Estimate Std. Error t value  Pr(>|t|)    \n",
       "(Intercept)  0.1294765  0.0180130  7.1879 6.646e-13 ***\n",
       "dui         -0.0694596  0.0223030 -3.1144  0.001844 ** \n",
       "bac1        -0.3330882  0.2597592 -1.2823  0.199743    \n",
       "white        0.0129428  0.0032251  4.0131 5.999e-05 ***\n",
       "dui:bac1     0.6318084  0.2923318  2.1613  0.030678 *  \n",
       "---\n",
       "Signif. codes:  0 ‘***’ 0.001 ‘**’ 0.01 ‘*’ 0.05 ‘.’ 0.1 ‘ ’ 1\n"
      ]
     },
     "metadata": {},
     "output_type": "display_data"
    },
    {
     "data": {
      "text/plain": [
       "\n",
       "t test of coefficients:\n",
       "\n",
       "             Estimate Std. Error t value  Pr(>|t|)    \n",
       "(Intercept)  0.170123   0.018013  9.4444 < 2.2e-16 ***\n",
       "dui         -0.073356   0.022303 -3.2891  0.001006 ** \n",
       "bac1        -0.381400   0.259759 -1.4683  0.142032    \n",
       "dui:bac1     0.680838   0.292332  2.3290  0.019863 *  \n",
       "---\n",
       "Signif. codes:  0 ‘***’ 0.001 ‘**’ 0.01 ‘*’ 0.05 ‘.’ 0.1 ‘ ’ 1\n"
      ]
     },
     "metadata": {},
     "output_type": "display_data"
    },
    {
     "data": {
      "text/plain": [
       "\n",
       "t test of coefficients:\n",
       "\n",
       "             Estimate Std. Error t value  Pr(>|t|)    \n",
       "(Intercept)  0.140427   0.018013  7.7959 6.488e-15 ***\n",
       "dui         -0.069473   0.022303 -3.1150   0.00184 ** \n",
       "bac1        -0.333599   0.259759 -1.2843   0.19905    \n",
       "dui:bac1     0.633149   0.292332  2.1659   0.03033 *  \n",
       "---\n",
       "Signif. codes:  0 ‘***’ 0.001 ‘**’ 0.01 ‘*’ 0.05 ‘.’ 0.1 ‘ ’ 1\n"
      ]
     },
     "metadata": {},
     "output_type": "display_data"
    }
   ],
   "source": [
    "# bandwidth\n",
    "bw <- with(dwi, IKbandwidth(bac1, recidivism, cutpoint = 0.08))\n",
    "\n",
    "# kernel weights\n",
    "dwi$wt <- kernelwts(dwi$bac1, center = 0.08, bw = bw, kernel = \"rectangular\")\n",
    "\n",
    "# models\n",
    "MATE_model_male <- lm(recidivism ~ dui + bac1 + dui * bac1 + male, \n",
    "                 weights = wt, data = subset(dwi, wt > 0))\n",
    "\n",
    "MATE_model_white <- lm(recidivism ~ dui + bac1 + dui * bac1 + white, \n",
    "                 weights = wt, data = subset(dwi, wt > 0))\n",
    "\n",
    "\n",
    "MATE_model_aged <- lm(recidivism ~ dui + bac1 + dui * bac1 + aged, \n",
    "                 weights = wt, data = subset(dwi, wt > 0))\n",
    "\n",
    "MATE_model_acc <- lm(recidivism ~ dui + bac1 + dui * bac1 + acc, \n",
    "                 weights = wt, data = subset(dwi, wt > 0))\n",
    "\n",
    "# return coef\n",
    "\n",
    "print(\"MALE\")\n",
    "coeftest(MATE_model_male, vcov. = vcovHC(MATE_model, type = \"HC1\"))\n",
    "\n",
    "print(\"WHITE\")\n",
    "coeftest(MATE_model_white, vcov. = vcovHC(MATE_model, type = \"HC1\"))\n",
    "\n",
    "print(\"AGED\")\n",
    "coeftest(MATE_model_aged, vcov. = vcovHC(MATE_model, type = \"HC1\"))\n",
    "\n",
    "print(\"ACCIDENT\")\n",
    "coeftest(MATE_model_acc, vcov. = vcovHC(MATE_model, type = \"HC1\"))"
   ]
  },
  {
   "cell_type": "code",
   "execution_count": 43,
   "metadata": {
    "collapsed": true,
    "jupyter": {
     "outputs_hidden": true
    }
   },
   "outputs": [
    {
     "name": "stdout",
     "output_type": "stream",
     "text": [
      "\n",
      "Call:\n",
      "RDestimate(formula = recidivism ~ bac1 | male, data = dwi, cutpoint = 0.08, \n",
      "    bw = bw, kernel = \"rectangular\", cluster = dwi$dui)\n",
      "\n",
      "Type:\n",
      "sharp \n",
      "\n",
      "Estimates:\n",
      "           Bandwidth  Observations  Estimate  Std. Error  z value  Pr(>|z|)\n",
      "LATE       0.03668     66244        -0.01900  2.304e-05   -824.4   0       \n",
      "Half-BW    0.01834     34736        -0.01740  6.729e-05   -258.5   0       \n",
      "Double-BW  0.07336    128204        -0.02344  4.216e-05   -556.0   0       \n",
      "              \n",
      "LATE       ***\n",
      "Half-BW    ***\n",
      "Double-BW  ***\n",
      "---\n",
      "Signif. codes:  0 '***' 0.001 '**' 0.01 '*' 0.05 '.' 0.1 ' ' 1\n",
      "\n",
      "F-statistics:\n",
      "           F      Num. DoF  Denom. DoF  p\n",
      "LATE       46.29  4          66239      0\n",
      "Half-BW    26.71  4          34731      0\n",
      "Double-BW  75.32  4         128199      0\n"
     ]
    }
   ],
   "source": [
    "dwi_rd_male <- RDestimate(recidivism ~ bac1 | male, data = dwi, cutpoint = 0.08, \n",
    "           bw = bw, kernel = \"rectangular\", cluster = dwi$dui)\n",
    "\n",
    "summary(dwi_rd_male)"
   ]
  },
  {
   "cell_type": "code",
   "execution_count": 44,
   "metadata": {
    "collapsed": true,
    "jupyter": {
     "outputs_hidden": true
    }
   },
   "outputs": [
    {
     "name": "stdout",
     "output_type": "stream",
     "text": [
      "\n",
      "Call:\n",
      "RDestimate(formula = recidivism ~ bac1 | white, data = dwi, cutpoint = 0.08, \n",
      "    bw = bw, kernel = \"rectangular\", cluster = dwi$dui)\n",
      "\n",
      "Type:\n",
      "sharp \n",
      "\n",
      "Estimates:\n",
      "           Bandwidth  Observations  Estimate  Std. Error  z value  Pr(>|z|)\n",
      "LATE       0.03668     66244        -0.01891  3.634e-05    -520.5  0       \n",
      "Half-BW    0.01834     34736        -0.01785  2.820e-05    -632.9  0       \n",
      "Double-BW  0.07336    128204        -0.02305  9.857e-06   -2338.5  0       \n",
      "              \n",
      "LATE       ***\n",
      "Half-BW    ***\n",
      "Double-BW  ***\n",
      "---\n",
      "Signif. codes:  0 '***' 0.001 '**' 0.01 '*' 0.05 '.' 0.1 ' ' 1\n",
      "\n",
      "F-statistics:\n",
      "           F       Num. DoF  Denom. DoF  p        \n",
      "LATE       15.226  4          66239      3.796e-12\n",
      "Half-BW     9.897  4          34731      1.063e-07\n",
      "Double-BW  22.999  4         128199      0.000e+00\n"
     ]
    }
   ],
   "source": [
    "dwi_rd_white <- RDestimate(recidivism ~ bac1 | white, data = dwi, cutpoint = 0.08, \n",
    "           bw = bw, kernel = \"rectangular\", cluster = dwi$dui)\n",
    "\n",
    "summary(dwi_rd_white)"
   ]
  },
  {
   "cell_type": "code",
   "execution_count": 46,
   "metadata": {
    "collapsed": true,
    "jupyter": {
     "outputs_hidden": true
    }
   },
   "outputs": [
    {
     "name": "stdout",
     "output_type": "stream",
     "text": [
      "\n",
      "Call:\n",
      "RDestimate(formula = recidivism ~ bac1 | aged, data = dwi, cutpoint = 0.08, \n",
      "    bw = bw, kernel = \"rectangular\", cluster = dwi$dui)\n",
      "\n",
      "Type:\n",
      "sharp \n",
      "\n",
      "Estimates:\n",
      "           Bandwidth  Observations  Estimate  Std. Error  z value  Pr(>|z|)\n",
      "LATE       0.03668     66244        -0.01889  5.938e-06   -3181    0       \n",
      "Half-BW    0.01834     34736        -0.01776  6.039e-06   -2941    0       \n",
      "Double-BW  0.07336    128204        -0.02327  8.116e-06   -2867    0       \n",
      "              \n",
      "LATE       ***\n",
      "Half-BW    ***\n",
      "Double-BW  ***\n",
      "---\n",
      "Signif. codes:  0 '***' 0.001 '**' 0.01 '*' 0.05 '.' 0.1 ' ' 1\n",
      "\n",
      "F-statistics:\n",
      "           F      Num. DoF  Denom. DoF  p        \n",
      "LATE       25.21  4          66239      0.000e+00\n",
      "Half-BW    13.25  4          34731      1.739e-10\n",
      "Double-BW  40.74  4         128199      0.000e+00\n"
     ]
    }
   ],
   "source": [
    "dwi_rd_aged <- RDestimate(recidivism ~ bac1 | aged, data = dwi, cutpoint = 0.08, \n",
    "           bw = bw, kernel = \"rectangular\", cluster = dwi$dui)\n",
    "\n",
    "summary(dwi_rd_aged)"
   ]
  },
  {
   "cell_type": "code",
   "execution_count": 48,
   "metadata": {
    "collapsed": true,
    "jupyter": {
     "outputs_hidden": true
    }
   },
   "outputs": [
    {
     "name": "stdout",
     "output_type": "stream",
     "text": [
      "\n",
      "Call:\n",
      "RDestimate(formula = recidivism ~ bac1 | acc, data = dwi, cutpoint = 0.08, \n",
      "    bw = bw, kernel = \"rectangular\", cluster = dwi$dui)\n",
      "\n",
      "Type:\n",
      "sharp \n",
      "\n",
      "Estimates:\n",
      "           Bandwidth  Observations  Estimate  Std. Error  z value   Pr(>|z|)\n",
      "LATE       0.03668     66244        -0.01882  8.817e-06    -2134.5  0       \n",
      "Half-BW    0.01834     34736        -0.01774  1.857e-07   -95541.3  0       \n",
      "Double-BW  0.07336    128204        -0.02303  2.542e-05     -906.2  0       \n",
      "              \n",
      "LATE       ***\n",
      "Half-BW    ***\n",
      "Double-BW  ***\n",
      "---\n",
      "Signif. codes:  0 '***' 0.001 '**' 0.01 '*' 0.05 '.' 0.1 ' ' 1\n",
      "\n",
      "F-statistics:\n",
      "           F       Num. DoF  Denom. DoF  p        \n",
      "LATE       11.501  4          66239      4.953e-09\n",
      "Half-BW     7.556  4          34731      8.866e-06\n",
      "Double-BW  18.213  4         128199      1.155e-14\n"
     ]
    }
   ],
   "source": [
    "dwi_rd_acc <- RDestimate(recidivism ~ bac1 | acc, data = dwi, cutpoint = 0.08, \n",
    "           bw = bw, kernel = \"rectangular\", cluster = dwi$dui)\n",
    "\n",
    "summary(dwi_rd_acc)"
   ]
  },
  {
   "cell_type": "code",
   "execution_count": 61,
   "metadata": {
    "id": "aq_C1jY59W0v"
   },
   "outputs": [
    {
     "ename": "ERROR",
     "evalue": "Error in modelsummary_wide(dwi_rdd): could not find function \"modelsummary_wide\"\n",
     "output_type": "error",
     "traceback": [
      "Error in modelsummary_wide(dwi_rdd): could not find function \"modelsummary_wide\"\nTraceback:\n"
     ]
    }
   ],
   "source": [
    "## Table 2\n",
    "\n",
    "modelsummary(dwi_rdd)"
   ]
  },
  {
   "cell_type": "markdown",
   "metadata": {
    "id": "WLSU2GGl90yL"
   },
   "source": [
    "### Figure 2 Panels A-D"
   ]
  },
  {
   "cell_type": "markdown",
   "metadata": {
    "id": "fN0ZOXVG8bEs"
   },
   "source": [
    "*Recreate Figure 2 panel A-D. You can use the -cmogram- command in Stata to do this. Fit both linear and quadratic with confidence intervals. Discuss what you find and compare it with Hansen’s paper.*"
   ]
  },
  {
   "cell_type": "code",
   "execution_count": null,
   "metadata": {
    "id": "tq2vCRiv9XRf"
   },
   "outputs": [],
   "source": [
    "# Figure 2 Panel A - Accident at scene"
   ]
  },
  {
   "cell_type": "code",
   "execution_count": null,
   "metadata": {
    "id": "m9ysup1_96jJ"
   },
   "outputs": [],
   "source": [
    "# Figure 2 Panel B - Male"
   ]
  },
  {
   "cell_type": "code",
   "execution_count": null,
   "metadata": {
    "id": "UTq-DLAi96eT"
   },
   "outputs": [],
   "source": [
    "# Figure 2 Panel C - Age"
   ]
  },
  {
   "cell_type": "code",
   "execution_count": null,
   "metadata": {
    "id": "LKVmDJCU96Fa"
   },
   "outputs": [],
   "source": [
    "# Figure 2 Panel D - White"
   ]
  },
  {
   "cell_type": "markdown",
   "metadata": {
    "id": "j7pLMg9p961Q"
   },
   "source": []
  },
  {
   "cell_type": "markdown",
   "metadata": {
    "id": "yw0h3jwN98Ge"
   },
   "source": [
    "### Table 3, Col 1, Panel A + B"
   ]
  },
  {
   "cell_type": "markdown",
   "metadata": {
    "id": "1kVBIzzN8duj"
   },
   "source": [
    "*Estimate equation (1) with recidivism (`recid`) as the outcome. This corresponds to Table 3 column 1, but since I am missing some of his variables, your sample size will be the entire dataset of 214,558. Nevertheless, replicate Table 3, column 1, Panels A and B.  Note that these are local linear regressions and Panel A uses as its bandwidth 0.03 to 0.13.  But Panel B has a narrower bandwidth of 0.055 to 0.105.  Your table should have three columns and two A and B panels associated with the different bandwidths.:*\n",
    "\n",
    "1. *Column 1: control for the `bac1` linearly*\n",
    "2. *Column 2: interact `bac1` with cutoff linearly*\n",
    "3. *Column 3: interact `bac1` with cutoff linearly and as a quadratic*\n",
    "4. *For all analysis, estimate uncertainty using heteroskedastic robust standard errors. [ed: But if you want to show off, use Kolesár and Rothe’s 2018 “honest” confidence intervals (only available in R).]*\n"
   ]
  },
  {
   "cell_type": "code",
   "execution_count": null,
   "metadata": {
    "id": "cKO_QfC49YKU"
   },
   "outputs": [],
   "source": []
  },
  {
   "cell_type": "code",
   "execution_count": null,
   "metadata": {
    "id": "8pkyY4Yn9YF2"
   },
   "outputs": [],
   "source": []
  },
  {
   "cell_type": "code",
   "execution_count": null,
   "metadata": {
    "id": "xjksOq4F9X9s"
   },
   "outputs": [],
   "source": []
  },
  {
   "cell_type": "markdown",
   "metadata": {
    "id": "yuuJBwj8-DVV"
   },
   "source": [
    "### Figure 3"
   ]
  },
  {
   "cell_type": "markdown",
   "metadata": {
    "id": "QZzWADIH8xP0"
   },
   "source": [
    "*Recreate the top panel of Figure 3 according to the following rule:*\n",
    "\n",
    "1. *Fit linear fit using only observations with less than 0.15 bac on the `bac1`*\n",
    "2. *Fit quadratic fit using only observations with less than 0.15 bac on the `bac1`*"
   ]
  },
  {
   "cell_type": "code",
   "execution_count": null,
   "metadata": {
    "id": "k71Fq7to9ZBi"
   },
   "outputs": [],
   "source": []
  },
  {
   "cell_type": "code",
   "execution_count": null,
   "metadata": {
    "id": "6iwT4an89Zsn"
   },
   "outputs": [],
   "source": []
  },
  {
   "cell_type": "code",
   "execution_count": null,
   "metadata": {
    "id": "UsJkzJUD9ZZf"
   },
   "outputs": [],
   "source": []
  },
  {
   "cell_type": "markdown",
   "metadata": {
    "id": "0XuoPkvM-F2f"
   },
   "source": [
    "### Reflecting on exercise"
   ]
  },
  {
   "cell_type": "markdown",
   "metadata": {
    "id": "sDFcHjvt9OXm"
   },
   "source": [
    "*Discuss what you learned from this exercise. What was the hypothesis you tested and what did you find?  How confident are you in Hansen’s original conclusion? Why/why not?*"
   ]
  },
  {
   "cell_type": "markdown",
   "metadata": {
    "id": "7kBWwrcj9b4X"
   },
   "source": []
  }
 ],
 "metadata": {
  "colab": {
   "name": "hansen_rdd",
   "provenance": []
  },
  "kernelspec": {
   "display_name": "R",
   "language": "R",
   "name": "ir"
  },
  "language_info": {
   "codemirror_mode": "r",
   "file_extension": ".r",
   "mimetype": "text/x-r-source",
   "name": "R",
   "pygments_lexer": "r",
   "version": "4.0.3"
  }
 },
 "nbformat": 4,
 "nbformat_minor": 4
}
